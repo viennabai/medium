{
 "cells": [
  {
   "cell_type": "code",
   "execution_count": null,
   "metadata": {},
   "outputs": [],
   "source": [
    "def check_features(self):\n",
    "    \n",
    "    for i in range(self.c): \n",
    "        self.find_best_split(i)\n",
    "    if self.is_leaf: return \n",
    "    \n",
    "    #otherwise this split becomes the root of a \"new tree\" \n",
    "    x = self.split_cols\n",
    "    lhs = np.nonzero(x <= self.split)[0]\n",
    "    rhs = np.nonzero(x > self.split)[0]\n",
    "    self.lhs = DecisionTree(self.x, self.y, self.idxs[lhs]) \n",
    "    self.rhs = DecisionTree(self.x, self.y, self.idxs[rhs]) "
   ]
  }
 ],
 "metadata": {
  "_draft": {
   "nbviewer_url": "https://gist.github.com/cdec948dd93d7f3542f51c5aae69f1bd"
  },
  "gist": {
   "data": {
    "description": "RF_furthersplits.ipynb",
    "public": true
   },
   "id": "cdec948dd93d7f3542f51c5aae69f1bd"
  },
  "kernelspec": {
   "display_name": "Python 3",
   "language": "python",
   "name": "python3"
  },
  "language_info": {
   "codemirror_mode": {
    "name": "ipython",
    "version": 3
   },
   "file_extension": ".py",
   "mimetype": "text/x-python",
   "name": "python",
   "nbconvert_exporter": "python",
   "pygments_lexer": "ipython3",
   "version": "3.7.4"
  }
 },
 "nbformat": 4,
 "nbformat_minor": 2
}
